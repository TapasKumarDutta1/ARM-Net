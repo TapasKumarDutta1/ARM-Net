{
  "nbformat": 4,
  "nbformat_minor": 0,
  "metadata": {
    "colab": {
      "name": "FE_working_weights_working.ipynb",
      "provenance": [],
      "machine_shape": "hm",
      "include_colab_link": true
    },
    "kernelspec": {
      "name": "python3",
      "display_name": "Python 3"
    },
    "language_info": {
      "name": "python"
    },
    "accelerator": "GPU"
  },
  "cells": [
    {
      "cell_type": "markdown",
      "metadata": {
        "id": "view-in-github",
        "colab_type": "text"
      },
      "source": [
        "<a href=\"https://colab.research.google.com/github/greyhound101/gan_segmentation_FE/blob/main/FE_working_weights_working.ipynb\" target=\"_parent\"><img src=\"https://colab.research.google.com/assets/colab-badge.svg\" alt=\"Open In Colab\"/></a>"
      ]
    },
    {
      "cell_type": "code",
      "metadata": {
        "colab": {
          "base_uri": "https://localhost:8080/"
        },
        "id": "HkihMbsoz1hZ",
        "outputId": "7bd51279-f570-493a-e437-156d7b05b5b8"
      },
      "source": [
        "from google.colab import drive\n",
        "drive.mount('/content/gdrive')\n",
        "drive.mount(\"/content/gdrive\", force_remount=True)"
      ],
      "execution_count": null,
      "outputs": [
        {
          "output_type": "stream",
          "text": [
            "Mounted at /content/gdrive\n",
            "Mounted at /content/gdrive\n"
          ],
          "name": "stdout"
        }
      ]
    },
    {
      "cell_type": "code",
      "metadata": {
        "id": "LG2pnjJY0ORv"
      },
      "source": [
        "import zipfile\n",
        "with zipfile.ZipFile('/content/gdrive/My Drive/segmentation/Training_Batch1.zip', 'r') as zip_ref:\n",
        "    zip_ref.extractall('/content/')"
      ],
      "execution_count": null,
      "outputs": []
    },
    {
      "cell_type": "code",
      "metadata": {
        "id": "1vR0vKbc1iA5"
      },
      "source": [
        "import zipfile\n",
        "with zipfile.ZipFile('/content/gdrive/My Drive/segmentation/Training_Batch2.zip', 'r') as zip_ref:\n",
        "    zip_ref.extractall('/content/')"
      ],
      "execution_count": null,
      "outputs": []
    },
    {
      "cell_type": "code",
      "metadata": {
        "colab": {
          "base_uri": "https://localhost:8080/"
        },
        "id": "iJMLGdoI0Ybc",
        "outputId": "e56e8e52-a5f8-496f-88bc-6bcbdad33238"
      },
      "source": [
        "pip install medpy"
      ],
      "execution_count": null,
      "outputs": [
        {
          "output_type": "stream",
          "text": [
            "Collecting medpy\n",
            "\u001b[?25l  Downloading https://files.pythonhosted.org/packages/3b/70/c1fd5dd60242eee81774696ea7ba4caafac2bad8f028bba94b1af83777d7/MedPy-0.4.0.tar.gz (151kB)\n",
            "\u001b[K     |████████████████████████████████| 153kB 13.4MB/s \n",
            "\u001b[?25hRequirement already satisfied: scipy>=1.1.0 in /usr/local/lib/python3.7/dist-packages (from medpy) (1.4.1)\n",
            "Requirement already satisfied: numpy>=1.11.0 in /usr/local/lib/python3.7/dist-packages (from medpy) (1.19.5)\n",
            "Collecting SimpleITK>=1.1.0\n",
            "\u001b[?25l  Downloading https://files.pythonhosted.org/packages/9c/6b/85df5eb3a8059b23a53a9f224476e75473f9bcc0a8583ed1a9c34619f372/SimpleITK-2.0.2-cp37-cp37m-manylinux2010_x86_64.whl (47.4MB)\n",
            "\u001b[K     |████████████████████████████████| 47.4MB 108kB/s \n",
            "\u001b[?25hBuilding wheels for collected packages: medpy\n",
            "  Building wheel for medpy (setup.py) ... \u001b[?25l\u001b[?25hdone\n",
            "  Created wheel for medpy: filename=MedPy-0.4.0-cp37-cp37m-linux_x86_64.whl size=754477 sha256=9c565c9f9697f1d81681f23c2fd0590fe4a679afda03d55babbf9c6723eed11a\n",
            "  Stored in directory: /root/.cache/pip/wheels/8c/c9/9c/2c6281c7a72b9fb1570862a4f028af7ce38405008354fbf870\n",
            "Successfully built medpy\n",
            "Installing collected packages: SimpleITK, medpy\n",
            "Successfully installed SimpleITK-2.0.2 medpy-0.4.0\n"
          ],
          "name": "stdout"
        }
      ]
    },
    {
      "cell_type": "code",
      "metadata": {
        "colab": {
          "base_uri": "https://localhost:8080/"
        },
        "id": "WRzJyZ270YYk",
        "outputId": "63bb9828-5a3a-4e48-f231-731e08d12510"
      },
      "source": [
        "from medpy.io import load, save\n",
        "import os\n",
        "import os.path\n",
        "import gc\n",
        "from scipy.ndimage import zoom\n",
        "import numpy as np\n",
        "from tqdm import tqdm\n",
        "try:\n",
        "  os.mkdir('data')\n",
        "except:\n",
        "  pass\n",
        "for file in tqdm(range(28)):\n",
        "        shape=64/2\n",
        "        img, img_header = load('/content/media/nas/01_Datasets/CT/LITS/Training Batch 1/volume-'+str(file)+'.nii')\n",
        "        seg, img_header = load('/content/media/nas/01_Datasets/CT/LITS/Training Batch 1/segmentation-'+str(file)+'.nii')\n",
        "        arr=np.where(seg==2)[-1]\n",
        "        mn=(arr.min()+arr.max())/2\n",
        "        \n",
        "        \n",
        "        if mn-shape<0:\n",
        "          start=0\n",
        "          end=int(shape*2)\n",
        "        elif mn+shape>img.shape[-1]:\n",
        "          end=int(img.shape[-1])\n",
        "          start=int(end-shape*2)\n",
        "        else:\n",
        "          start=int(max(0,(mn-shape)))\n",
        "          end=int(min(img.shape[-1],int(mn+shape)))\n",
        "        \n",
        "        \n",
        "        img=img[:,:,start:end]\n",
        "        img[img < -250] = -250\n",
        "        img[img > 250] = 250\n",
        "        img=(img+250)/500\n",
        "        img = np.array(img, dtype='float32')\n",
        "        # img = zoom(img, (0.125, 0.125, 1))\n",
        "        # print (\"Saving image \"+str(file))\n",
        "        # np.save( \"/content/data/volume-\" + str(file) ,zoom(img, (0.125, 0.125, 1)))\n",
        "        # print(img.shape)\n",
        "        # del([img])\n",
        "        # gc.collect()\n",
        "        seg=seg.astype('float64')\n",
        "        seg/=2\n",
        "        # seg+=0.1645\n",
        "        # seg/=0.023138\n",
        "        seg = np.array(seg, dtype='float32')\n",
        "        seg=seg[:,:,start:end]\n",
        "        # print (\"Saving image \"+file)\n",
        "        # seg=zoom(seg, (0.125, 0.125, 1))\n",
        "        total=np.concatenate([img,seg],-1)\n",
        "        print(total.shape)\n",
        "        np.save( \"/content/data/total-\" + str(file),total)\n",
        "        del([seg,img,total])\n",
        "        gc.collect()"
      ],
      "execution_count": null,
      "outputs": [
        {
          "output_type": "stream",
          "text": [
            "  4%|▎         | 1/28 [00:01<00:52,  1.96s/it]"
          ],
          "name": "stderr"
        },
        {
          "output_type": "stream",
          "text": [
            "(512, 512, 128)\n"
          ],
          "name": "stdout"
        },
        {
          "output_type": "stream",
          "text": [
            "\r  7%|▋         | 2/28 [00:04<00:58,  2.25s/it]"
          ],
          "name": "stderr"
        },
        {
          "output_type": "stream",
          "text": [
            "(512, 512, 128)\n"
          ],
          "name": "stdout"
        },
        {
          "output_type": "stream",
          "text": [
            "\r 11%|█         | 3/28 [00:15<01:58,  4.75s/it]"
          ],
          "name": "stderr"
        },
        {
          "output_type": "stream",
          "text": [
            "(512, 512, 128)\n"
          ],
          "name": "stdout"
        },
        {
          "output_type": "stream",
          "text": [
            "\r 14%|█▍        | 4/28 [00:25<02:32,  6.34s/it]"
          ],
          "name": "stderr"
        },
        {
          "output_type": "stream",
          "text": [
            "(512, 512, 128)\n"
          ],
          "name": "stdout"
        },
        {
          "output_type": "stream",
          "text": [
            "\r 18%|█▊        | 5/28 [00:45<04:00, 10.46s/it]"
          ],
          "name": "stderr"
        },
        {
          "output_type": "stream",
          "text": [
            "(512, 512, 128)\n"
          ],
          "name": "stdout"
        },
        {
          "output_type": "stream",
          "text": [
            "\r 21%|██▏       | 6/28 [00:55<03:46, 10.28s/it]"
          ],
          "name": "stderr"
        },
        {
          "output_type": "stream",
          "text": [
            "(512, 512, 128)\n"
          ],
          "name": "stdout"
        },
        {
          "output_type": "stream",
          "text": [
            "\r 25%|██▌       | 7/28 [01:05<03:33, 10.15s/it]"
          ],
          "name": "stderr"
        },
        {
          "output_type": "stream",
          "text": [
            "(512, 512, 128)\n"
          ],
          "name": "stdout"
        },
        {
          "output_type": "stream",
          "text": [
            "\r 29%|██▊       | 8/28 [01:15<03:23, 10.18s/it]"
          ],
          "name": "stderr"
        },
        {
          "output_type": "stream",
          "text": [
            "(512, 512, 128)\n"
          ],
          "name": "stdout"
        },
        {
          "output_type": "stream",
          "text": [
            "\r 32%|███▏      | 9/28 [01:25<03:13, 10.16s/it]"
          ],
          "name": "stderr"
        },
        {
          "output_type": "stream",
          "text": [
            "(512, 512, 128)\n"
          ],
          "name": "stdout"
        },
        {
          "output_type": "stream",
          "text": [
            "\r 36%|███▌      | 10/28 [01:36<03:04, 10.25s/it]"
          ],
          "name": "stderr"
        },
        {
          "output_type": "stream",
          "text": [
            "(512, 512, 128)\n"
          ],
          "name": "stdout"
        },
        {
          "output_type": "stream",
          "text": [
            "\r 39%|███▉      | 11/28 [01:45<02:49,  9.98s/it]"
          ],
          "name": "stderr"
        },
        {
          "output_type": "stream",
          "text": [
            "(512, 512, 128)\n"
          ],
          "name": "stdout"
        },
        {
          "output_type": "stream",
          "text": [
            "\r 43%|████▎     | 12/28 [01:54<02:33,  9.60s/it]"
          ],
          "name": "stderr"
        },
        {
          "output_type": "stream",
          "text": [
            "(512, 512, 128)\n"
          ],
          "name": "stdout"
        },
        {
          "output_type": "stream",
          "text": [
            "\r 46%|████▋     | 13/28 [02:02<02:19,  9.29s/it]"
          ],
          "name": "stderr"
        },
        {
          "output_type": "stream",
          "text": [
            "(512, 512, 128)\n"
          ],
          "name": "stdout"
        },
        {
          "output_type": "stream",
          "text": [
            "\r 50%|█████     | 14/28 [02:16<02:27, 10.56s/it]"
          ],
          "name": "stderr"
        },
        {
          "output_type": "stream",
          "text": [
            "(512, 512, 128)\n",
            "(512, 512, 128)\n"
          ],
          "name": "stdout"
        },
        {
          "output_type": "stream",
          "text": [
            " 57%|█████▋    | 16/28 [02:37<02:08, 10.67s/it]"
          ],
          "name": "stderr"
        },
        {
          "output_type": "stream",
          "text": [
            "(512, 512, 128)\n"
          ],
          "name": "stdout"
        },
        {
          "output_type": "stream",
          "text": [
            "\r 61%|██████    | 17/28 [02:53<02:14, 12.21s/it]"
          ],
          "name": "stderr"
        },
        {
          "output_type": "stream",
          "text": [
            "(512, 512, 128)\n"
          ],
          "name": "stdout"
        },
        {
          "output_type": "stream",
          "text": [
            "\r 64%|██████▍   | 18/28 [03:09<02:12, 13.27s/it]"
          ],
          "name": "stderr"
        },
        {
          "output_type": "stream",
          "text": [
            "(512, 512, 128)\n"
          ],
          "name": "stdout"
        },
        {
          "output_type": "stream",
          "text": [
            "\r 68%|██████▊   | 19/28 [03:25<02:06, 14.02s/it]"
          ],
          "name": "stderr"
        },
        {
          "output_type": "stream",
          "text": [
            "(512, 512, 128)\n"
          ],
          "name": "stdout"
        },
        {
          "output_type": "stream",
          "text": [
            "\r 71%|███████▏  | 20/28 [03:35<01:43, 12.89s/it]"
          ],
          "name": "stderr"
        },
        {
          "output_type": "stream",
          "text": [
            "(512, 512, 128)\n"
          ],
          "name": "stdout"
        },
        {
          "output_type": "stream",
          "text": [
            "\r 75%|███████▌  | 21/28 [03:46<01:25, 12.22s/it]"
          ],
          "name": "stderr"
        },
        {
          "output_type": "stream",
          "text": [
            "(512, 512, 128)\n"
          ],
          "name": "stdout"
        },
        {
          "output_type": "stream",
          "text": [
            "\r 79%|███████▊  | 22/28 [03:54<01:06, 11.04s/it]"
          ],
          "name": "stderr"
        },
        {
          "output_type": "stream",
          "text": [
            "(512, 512, 128)\n"
          ],
          "name": "stdout"
        },
        {
          "output_type": "stream",
          "text": [
            "\r 82%|████████▏ | 23/28 [03:59<00:45,  9.19s/it]"
          ],
          "name": "stderr"
        },
        {
          "output_type": "stream",
          "text": [
            "(512, 512, 128)\n"
          ],
          "name": "stdout"
        },
        {
          "output_type": "stream",
          "text": [
            "\r 86%|████████▌ | 24/28 [04:07<00:35,  8.92s/it]"
          ],
          "name": "stderr"
        },
        {
          "output_type": "stream",
          "text": [
            "(512, 512, 128)\n"
          ],
          "name": "stdout"
        },
        {
          "output_type": "stream",
          "text": [
            "\r 89%|████████▉ | 25/28 [04:12<00:23,  7.81s/it]"
          ],
          "name": "stderr"
        },
        {
          "output_type": "stream",
          "text": [
            "(512, 512, 128)\n"
          ],
          "name": "stdout"
        },
        {
          "output_type": "stream",
          "text": [
            "\r 93%|█████████▎| 26/28 [04:24<00:17,  8.88s/it]"
          ],
          "name": "stderr"
        },
        {
          "output_type": "stream",
          "text": [
            "(512, 512, 128)\n"
          ],
          "name": "stdout"
        },
        {
          "output_type": "stream",
          "text": [
            "\r 96%|█████████▋| 27/28 [04:36<00:10, 10.01s/it]"
          ],
          "name": "stderr"
        },
        {
          "output_type": "stream",
          "text": [
            "(512, 512, 128)\n"
          ],
          "name": "stdout"
        },
        {
          "output_type": "stream",
          "text": [
            "100%|██████████| 28/28 [04:53<00:00, 10.47s/it]"
          ],
          "name": "stderr"
        },
        {
          "output_type": "stream",
          "text": [
            "(512, 512, 128)\n"
          ],
          "name": "stdout"
        },
        {
          "output_type": "stream",
          "text": [
            "\n"
          ],
          "name": "stderr"
        }
      ]
    },
    {
      "cell_type": "code",
      "metadata": {
        "id": "04ic1ekG5W-W",
        "colab": {
          "base_uri": "https://localhost:8080/"
        },
        "outputId": "5ce6fe38-6236-4ca4-acc8-49906179dc86"
      },
      "source": [
        "from medpy.io import load, save\n",
        "import os\n",
        "import os.path\n",
        "import gc\n",
        "from scipy.ndimage import zoom\n",
        "import numpy as np\n",
        "from tqdm import tqdm\n",
        "try:\n",
        "  os.mkdir('data')\n",
        "except:\n",
        "  pass\n",
        "for file in tqdm(range(28,131)):\n",
        "        shape=64/2\n",
        "        img, img_header = load('/content/media/nas/01_Datasets/CT/LITS/Training Batch 2/volume-'+str(file)+'.nii')\n",
        "        seg, img_header = load('/content/media/nas/01_Datasets/CT/LITS/Training Batch 2/segmentation-'+str(file)+'.nii')\n",
        "        \n",
        "        arr=np.where(seg==2)[-1]\n",
        "        if len(arr)==0:\n",
        "            arr=np.asarray([0,img.shape[-1]])\n",
        "        \n",
        "        mn=(arr.min()+arr.max())/2\n",
        "        \n",
        "        \n",
        "        if mn-shape<0:\n",
        "          start=0\n",
        "          end=int(shape*2)\n",
        "        elif mn+shape>img.shape[-1]:\n",
        "          end=int(img.shape[-1])\n",
        "          start=int(end-shape*2)\n",
        "        else:\n",
        "          start=int(max(0,(mn-shape)))\n",
        "          end=int(min(img.shape[-1],int(mn+shape)))\n",
        "        \n",
        "        \n",
        "        img=img[:,:,start:end].astype('float64')\n",
        "        img[img < -250] = -250\n",
        "        img[img > 250] = 250\n",
        "        img=(img+250)/500\n",
        "        img = np.array(img, dtype='float32')\n",
        "        # img = zoom(img, (0.125, 0.125, 1))\n",
        "        # print (\"Saving image \"+str(file))\n",
        "        # np.save( \"/content/data/volume-\" + str(file) ,zoom(img, (0.125, 0.125, 1)))\n",
        "        # print(img.shape)\n",
        "        # del([img])\n",
        "        # gc.collect()\n",
        "        seg=seg.astype('float64')\n",
        "        seg/=2\n",
        "\n",
        "        # seg+=0.1645\n",
        "        # seg/=0.023138\n",
        "        seg = np.array(seg, dtype='float32')\n",
        "        seg=seg[:,:,start:end]\n",
        "        # print (\"Saving image \"+file)\n",
        "        # seg=zoom(seg, (0.125, 0.125, 1))\n",
        "        total=np.concatenate([img,seg],-1)\n",
        "        print(total.shape)\n",
        "        np.save( \"/content/data/total-\" + str(file),total)\n",
        "        del([seg,img,total])\n",
        "        gc.collect()"
      ],
      "execution_count": null,
      "outputs": [
        {
          "output_type": "stream",
          "text": [
            "  1%|          | 1/103 [00:02<04:21,  2.57s/it]"
          ],
          "name": "stderr"
        },
        {
          "output_type": "stream",
          "text": [
            "(512, 512, 128)\n"
          ],
          "name": "stdout"
        },
        {
          "output_type": "stream",
          "text": [
            "\r  2%|▏         | 2/103 [00:05<04:44,  2.81s/it]"
          ],
          "name": "stderr"
        },
        {
          "output_type": "stream",
          "text": [
            "(512, 512, 128)\n"
          ],
          "name": "stdout"
        },
        {
          "output_type": "stream",
          "text": [
            "\r  3%|▎         | 3/103 [00:09<05:15,  3.15s/it]"
          ],
          "name": "stderr"
        },
        {
          "output_type": "stream",
          "text": [
            "(512, 512, 128)\n"
          ],
          "name": "stdout"
        },
        {
          "output_type": "stream",
          "text": [
            "\r  4%|▍         | 4/103 [00:11<04:31,  2.74s/it]"
          ],
          "name": "stderr"
        },
        {
          "output_type": "stream",
          "text": [
            "(512, 512, 128)\n"
          ],
          "name": "stdout"
        },
        {
          "output_type": "stream",
          "text": [
            "\r  5%|▍         | 5/103 [00:14<04:35,  2.81s/it]"
          ],
          "name": "stderr"
        },
        {
          "output_type": "stream",
          "text": [
            "(512, 512, 128)\n"
          ],
          "name": "stdout"
        },
        {
          "output_type": "stream",
          "text": [
            "\r  6%|▌         | 6/103 [00:17<04:26,  2.75s/it]"
          ],
          "name": "stderr"
        },
        {
          "output_type": "stream",
          "text": [
            "(512, 512, 128)\n"
          ],
          "name": "stdout"
        },
        {
          "output_type": "stream",
          "text": [
            "\r  7%|▋         | 7/103 [00:21<04:55,  3.07s/it]"
          ],
          "name": "stderr"
        },
        {
          "output_type": "stream",
          "text": [
            "(512, 512, 128)\n"
          ],
          "name": "stdout"
        },
        {
          "output_type": "stream",
          "text": [
            "\r  8%|▊         | 8/103 [00:23<04:36,  2.91s/it]"
          ],
          "name": "stderr"
        },
        {
          "output_type": "stream",
          "text": [
            "(512, 512, 128)\n"
          ],
          "name": "stdout"
        },
        {
          "output_type": "stream",
          "text": [
            "\r  9%|▊         | 9/103 [00:25<04:17,  2.74s/it]"
          ],
          "name": "stderr"
        },
        {
          "output_type": "stream",
          "text": [
            "(512, 512, 128)\n"
          ],
          "name": "stdout"
        },
        {
          "output_type": "stream",
          "text": [
            "\r 10%|▉         | 10/103 [00:28<04:05,  2.64s/it]"
          ],
          "name": "stderr"
        },
        {
          "output_type": "stream",
          "text": [
            "(512, 512, 128)\n"
          ],
          "name": "stdout"
        },
        {
          "output_type": "stream",
          "text": [
            "\r 11%|█         | 11/103 [00:31<04:07,  2.69s/it]"
          ],
          "name": "stderr"
        },
        {
          "output_type": "stream",
          "text": [
            "(512, 512, 128)\n"
          ],
          "name": "stdout"
        },
        {
          "output_type": "stream",
          "text": [
            "\r 12%|█▏        | 12/103 [00:36<05:10,  3.41s/it]"
          ],
          "name": "stderr"
        },
        {
          "output_type": "stream",
          "text": [
            "(512, 512, 128)\n"
          ],
          "name": "stdout"
        },
        {
          "output_type": "stream",
          "text": [
            "\r 13%|█▎        | 13/103 [00:38<04:38,  3.10s/it]"
          ],
          "name": "stderr"
        },
        {
          "output_type": "stream",
          "text": [
            "(512, 512, 128)\n"
          ],
          "name": "stdout"
        },
        {
          "output_type": "stream",
          "text": [
            "\r 14%|█▎        | 14/103 [00:40<04:11,  2.83s/it]"
          ],
          "name": "stderr"
        },
        {
          "output_type": "stream",
          "text": [
            "(512, 512, 128)\n"
          ],
          "name": "stdout"
        },
        {
          "output_type": "stream",
          "text": [
            "\r 15%|█▍        | 15/103 [00:43<04:02,  2.76s/it]"
          ],
          "name": "stderr"
        },
        {
          "output_type": "stream",
          "text": [
            "(512, 512, 128)\n"
          ],
          "name": "stdout"
        },
        {
          "output_type": "stream",
          "text": [
            "\r 16%|█▌        | 16/103 [00:46<04:06,  2.83s/it]"
          ],
          "name": "stderr"
        },
        {
          "output_type": "stream",
          "text": [
            "(512, 512, 128)\n"
          ],
          "name": "stdout"
        },
        {
          "output_type": "stream",
          "text": [
            "\r 17%|█▋        | 17/103 [00:48<03:51,  2.69s/it]"
          ],
          "name": "stderr"
        },
        {
          "output_type": "stream",
          "text": [
            "(512, 512, 128)\n"
          ],
          "name": "stdout"
        },
        {
          "output_type": "stream",
          "text": [
            "\r 17%|█▋        | 18/103 [00:50<03:24,  2.40s/it]"
          ],
          "name": "stderr"
        },
        {
          "output_type": "stream",
          "text": [
            "(512, 512, 128)\n"
          ],
          "name": "stdout"
        },
        {
          "output_type": "stream",
          "text": [
            "\r 18%|█▊        | 19/103 [00:53<03:31,  2.52s/it]"
          ],
          "name": "stderr"
        },
        {
          "output_type": "stream",
          "text": [
            "(512, 512, 128)\n"
          ],
          "name": "stdout"
        },
        {
          "output_type": "stream",
          "text": [
            "\r 19%|█▉        | 20/103 [00:57<04:19,  3.13s/it]"
          ],
          "name": "stderr"
        },
        {
          "output_type": "stream",
          "text": [
            "(512, 512, 128)\n"
          ],
          "name": "stdout"
        },
        {
          "output_type": "stream",
          "text": [
            "\r 20%|██        | 21/103 [01:02<05:00,  3.66s/it]"
          ],
          "name": "stderr"
        },
        {
          "output_type": "stream",
          "text": [
            "(512, 512, 128)\n"
          ],
          "name": "stdout"
        },
        {
          "output_type": "stream",
          "text": [
            "\r 21%|██▏       | 22/103 [01:07<05:28,  4.05s/it]"
          ],
          "name": "stderr"
        },
        {
          "output_type": "stream",
          "text": [
            "(512, 512, 128)\n"
          ],
          "name": "stdout"
        },
        {
          "output_type": "stream",
          "text": [
            "\r 22%|██▏       | 23/103 [01:12<05:37,  4.22s/it]"
          ],
          "name": "stderr"
        },
        {
          "output_type": "stream",
          "text": [
            "(512, 512, 128)\n"
          ],
          "name": "stdout"
        },
        {
          "output_type": "stream",
          "text": [
            "\r 23%|██▎       | 24/103 [01:16<05:37,  4.27s/it]"
          ],
          "name": "stderr"
        },
        {
          "output_type": "stream",
          "text": [
            "(512, 512, 128)\n"
          ],
          "name": "stdout"
        },
        {
          "output_type": "stream",
          "text": [
            "\r 24%|██▍       | 25/103 [01:21<05:42,  4.39s/it]"
          ],
          "name": "stderr"
        },
        {
          "output_type": "stream",
          "text": [
            "(512, 512, 128)\n"
          ],
          "name": "stdout"
        },
        {
          "output_type": "stream",
          "text": [
            "\r 25%|██▌       | 26/103 [01:23<04:46,  3.72s/it]"
          ],
          "name": "stderr"
        },
        {
          "output_type": "stream",
          "text": [
            "(512, 512, 128)\n"
          ],
          "name": "stdout"
        },
        {
          "output_type": "stream",
          "text": [
            "\r 26%|██▌       | 27/103 [01:26<04:29,  3.55s/it]"
          ],
          "name": "stderr"
        },
        {
          "output_type": "stream",
          "text": [
            "(512, 512, 128)\n"
          ],
          "name": "stdout"
        },
        {
          "output_type": "stream",
          "text": [
            "\r 27%|██▋       | 28/103 [01:32<05:22,  4.29s/it]"
          ],
          "name": "stderr"
        },
        {
          "output_type": "stream",
          "text": [
            "(512, 512, 128)\n"
          ],
          "name": "stdout"
        },
        {
          "output_type": "stream",
          "text": [
            "\r 28%|██▊       | 29/103 [01:38<05:48,  4.71s/it]"
          ],
          "name": "stderr"
        },
        {
          "output_type": "stream",
          "text": [
            "(512, 512, 128)\n"
          ],
          "name": "stdout"
        },
        {
          "output_type": "stream",
          "text": [
            "\r 29%|██▉       | 30/103 [01:48<07:33,  6.22s/it]"
          ],
          "name": "stderr"
        },
        {
          "output_type": "stream",
          "text": [
            "(512, 512, 128)\n"
          ],
          "name": "stdout"
        },
        {
          "output_type": "stream",
          "text": [
            "\r 30%|███       | 31/103 [01:52<06:43,  5.60s/it]"
          ],
          "name": "stderr"
        },
        {
          "output_type": "stream",
          "text": [
            "(512, 512, 128)\n"
          ],
          "name": "stdout"
        },
        {
          "output_type": "stream",
          "text": [
            "\r 31%|███       | 32/103 [01:56<06:05,  5.15s/it]"
          ],
          "name": "stderr"
        },
        {
          "output_type": "stream",
          "text": [
            "(512, 512, 128)\n"
          ],
          "name": "stdout"
        },
        {
          "output_type": "stream",
          "text": [
            "\r 32%|███▏      | 33/103 [02:01<05:50,  5.01s/it]"
          ],
          "name": "stderr"
        },
        {
          "output_type": "stream",
          "text": [
            "(512, 512, 128)\n"
          ],
          "name": "stdout"
        },
        {
          "output_type": "stream",
          "text": [
            "\r 33%|███▎      | 34/103 [02:04<05:17,  4.60s/it]"
          ],
          "name": "stderr"
        },
        {
          "output_type": "stream",
          "text": [
            "(512, 512, 128)\n"
          ],
          "name": "stdout"
        },
        {
          "output_type": "stream",
          "text": [
            "\r 34%|███▍      | 35/103 [02:08<04:53,  4.32s/it]"
          ],
          "name": "stderr"
        },
        {
          "output_type": "stream",
          "text": [
            "(512, 512, 128)\n"
          ],
          "name": "stdout"
        },
        {
          "output_type": "stream",
          "text": [
            "\r 35%|███▍      | 36/103 [02:11<04:29,  4.02s/it]"
          ],
          "name": "stderr"
        },
        {
          "output_type": "stream",
          "text": [
            "(512, 512, 128)\n"
          ],
          "name": "stdout"
        },
        {
          "output_type": "stream",
          "text": [
            "\r 36%|███▌      | 37/103 [02:16<04:44,  4.31s/it]"
          ],
          "name": "stderr"
        },
        {
          "output_type": "stream",
          "text": [
            "(512, 512, 128)\n"
          ],
          "name": "stdout"
        },
        {
          "output_type": "stream",
          "text": [
            "\r 37%|███▋      | 38/103 [02:28<07:03,  6.51s/it]"
          ],
          "name": "stderr"
        },
        {
          "output_type": "stream",
          "text": [
            "(512, 512, 128)\n"
          ],
          "name": "stdout"
        },
        {
          "output_type": "stream",
          "text": [
            "\r 38%|███▊      | 39/103 [02:30<05:32,  5.19s/it]"
          ],
          "name": "stderr"
        },
        {
          "output_type": "stream",
          "text": [
            "(512, 512, 128)\n"
          ],
          "name": "stdout"
        },
        {
          "output_type": "stream",
          "text": [
            "\r 39%|███▉      | 40/103 [02:34<05:00,  4.77s/it]"
          ],
          "name": "stderr"
        },
        {
          "output_type": "stream",
          "text": [
            "(512, 512, 128)\n"
          ],
          "name": "stdout"
        },
        {
          "output_type": "stream",
          "text": [
            "\r 40%|███▉      | 41/103 [02:48<08:00,  7.75s/it]"
          ],
          "name": "stderr"
        },
        {
          "output_type": "stream",
          "text": [
            "(512, 512, 128)\n"
          ],
          "name": "stdout"
        },
        {
          "output_type": "stream",
          "text": [
            "\r 41%|████      | 42/103 [03:02<09:37,  9.47s/it]"
          ],
          "name": "stderr"
        },
        {
          "output_type": "stream",
          "text": [
            "(512, 512, 128)\n"
          ],
          "name": "stdout"
        },
        {
          "output_type": "stream",
          "text": [
            "\r 42%|████▏     | 43/103 [03:12<09:40,  9.68s/it]"
          ],
          "name": "stderr"
        },
        {
          "output_type": "stream",
          "text": [
            "(512, 512, 128)\n"
          ],
          "name": "stdout"
        },
        {
          "output_type": "stream",
          "text": [
            "\r 43%|████▎     | 44/103 [03:17<08:14,  8.38s/it]"
          ],
          "name": "stderr"
        },
        {
          "output_type": "stream",
          "text": [
            "(512, 512, 128)\n"
          ],
          "name": "stdout"
        },
        {
          "output_type": "stream",
          "text": [
            "\r 44%|████▎     | 45/103 [03:23<07:11,  7.44s/it]"
          ],
          "name": "stderr"
        },
        {
          "output_type": "stream",
          "text": [
            "(512, 512, 128)\n"
          ],
          "name": "stdout"
        },
        {
          "output_type": "stream",
          "text": [
            "\r 45%|████▍     | 46/103 [03:30<06:58,  7.34s/it]"
          ],
          "name": "stderr"
        },
        {
          "output_type": "stream",
          "text": [
            "(512, 512, 128)\n"
          ],
          "name": "stdout"
        },
        {
          "output_type": "stream",
          "text": [
            "\r 46%|████▌     | 47/103 [03:36<06:27,  6.92s/it]"
          ],
          "name": "stderr"
        },
        {
          "output_type": "stream",
          "text": [
            "(512, 512, 128)\n"
          ],
          "name": "stdout"
        },
        {
          "output_type": "stream",
          "text": [
            "\r 47%|████▋     | 48/103 [03:41<05:49,  6.36s/it]"
          ],
          "name": "stderr"
        },
        {
          "output_type": "stream",
          "text": [
            "(512, 512, 128)\n"
          ],
          "name": "stdout"
        },
        {
          "output_type": "stream",
          "text": [
            "\r 48%|████▊     | 49/103 [03:46<05:29,  6.10s/it]"
          ],
          "name": "stderr"
        },
        {
          "output_type": "stream",
          "text": [
            "(512, 512, 128)\n"
          ],
          "name": "stdout"
        },
        {
          "output_type": "stream",
          "text": [
            "\r 49%|████▊     | 50/103 [03:51<05:00,  5.67s/it]"
          ],
          "name": "stderr"
        },
        {
          "output_type": "stream",
          "text": [
            "(512, 512, 128)\n"
          ],
          "name": "stdout"
        },
        {
          "output_type": "stream",
          "text": [
            "\r 50%|████▉     | 51/103 [04:02<06:21,  7.33s/it]"
          ],
          "name": "stderr"
        },
        {
          "output_type": "stream",
          "text": [
            "(512, 512, 128)\n"
          ],
          "name": "stdout"
        },
        {
          "output_type": "stream",
          "text": [
            "\r 50%|█████     | 52/103 [04:11<06:30,  7.66s/it]"
          ],
          "name": "stderr"
        },
        {
          "output_type": "stream",
          "text": [
            "(512, 512, 128)\n"
          ],
          "name": "stdout"
        },
        {
          "output_type": "stream",
          "text": [
            "\r 51%|█████▏    | 53/103 [04:23<07:34,  9.10s/it]"
          ],
          "name": "stderr"
        },
        {
          "output_type": "stream",
          "text": [
            "(512, 512, 128)\n"
          ],
          "name": "stdout"
        },
        {
          "output_type": "stream",
          "text": [
            "\r 52%|█████▏    | 54/103 [04:42<09:53, 12.12s/it]"
          ],
          "name": "stderr"
        },
        {
          "output_type": "stream",
          "text": [
            "(512, 512, 128)\n"
          ],
          "name": "stdout"
        },
        {
          "output_type": "stream",
          "text": [
            "\r 53%|█████▎    | 55/103 [05:07<12:44, 15.92s/it]"
          ],
          "name": "stderr"
        },
        {
          "output_type": "stream",
          "text": [
            "(512, 512, 128)\n",
            "(512, 512, 128)\n"
          ],
          "name": "stdout"
        },
        {
          "output_type": "stream",
          "text": [
            "\r 54%|█████▍    | 56/103 [05:23<12:31, 16.00s/it]"
          ],
          "name": "stderr"
        },
        {
          "output_type": "stream",
          "text": [
            "(512, 512, 128)\n"
          ],
          "name": "stdout"
        },
        {
          "output_type": "stream",
          "text": [
            "\r 55%|█████▌    | 57/103 [05:37<11:42, 15.28s/it]"
          ],
          "name": "stderr"
        },
        {
          "output_type": "stream",
          "text": [
            "(512, 512, 128)\n"
          ],
          "name": "stdout"
        },
        {
          "output_type": "stream",
          "text": [
            "\r 56%|█████▋    | 58/103 [05:48<10:38, 14.18s/it]"
          ],
          "name": "stderr"
        },
        {
          "output_type": "stream",
          "text": [
            "(512, 512, 128)\n"
          ],
          "name": "stdout"
        },
        {
          "output_type": "stream",
          "text": [
            "\r 57%|█████▋    | 59/103 [06:01<09:57, 13.59s/it]"
          ],
          "name": "stderr"
        },
        {
          "output_type": "stream",
          "text": [
            "(512, 512, 128)\n"
          ],
          "name": "stdout"
        },
        {
          "output_type": "stream",
          "text": [
            "\r 58%|█████▊    | 60/103 [06:17<10:24, 14.52s/it]"
          ],
          "name": "stderr"
        },
        {
          "output_type": "stream",
          "text": [
            "(512, 512, 128)\n"
          ],
          "name": "stdout"
        },
        {
          "output_type": "stream",
          "text": [
            "\r 59%|█████▉    | 61/103 [06:33<10:20, 14.77s/it]"
          ],
          "name": "stderr"
        },
        {
          "output_type": "stream",
          "text": [
            "(512, 512, 128)\n"
          ],
          "name": "stdout"
        },
        {
          "output_type": "stream",
          "text": [
            "\r 60%|██████    | 62/103 [06:47<10:00, 14.64s/it]"
          ],
          "name": "stderr"
        },
        {
          "output_type": "stream",
          "text": [
            "(512, 512, 128)\n"
          ],
          "name": "stdout"
        },
        {
          "output_type": "stream",
          "text": [
            "\r 61%|██████    | 63/103 [07:01<09:40, 14.51s/it]"
          ],
          "name": "stderr"
        },
        {
          "output_type": "stream",
          "text": [
            "(512, 512, 128)\n"
          ],
          "name": "stdout"
        },
        {
          "output_type": "stream",
          "text": [
            "\r 62%|██████▏   | 64/103 [07:15<09:19, 14.36s/it]"
          ],
          "name": "stderr"
        },
        {
          "output_type": "stream",
          "text": [
            "(512, 512, 128)\n"
          ],
          "name": "stdout"
        },
        {
          "output_type": "stream",
          "text": [
            "\r 63%|██████▎   | 65/103 [07:31<09:21, 14.79s/it]"
          ],
          "name": "stderr"
        },
        {
          "output_type": "stream",
          "text": [
            "(512, 512, 128)\n"
          ],
          "name": "stdout"
        },
        {
          "output_type": "stream",
          "text": [
            "\r 64%|██████▍   | 66/103 [07:44<08:48, 14.29s/it]"
          ],
          "name": "stderr"
        },
        {
          "output_type": "stream",
          "text": [
            "(512, 512, 128)\n"
          ],
          "name": "stdout"
        },
        {
          "output_type": "stream",
          "text": [
            "\r 65%|██████▌   | 67/103 [08:01<09:06, 15.17s/it]"
          ],
          "name": "stderr"
        },
        {
          "output_type": "stream",
          "text": [
            "(512, 512, 128)\n"
          ],
          "name": "stdout"
        },
        {
          "output_type": "stream",
          "text": [
            "\r 66%|██████▌   | 68/103 [08:17<08:57, 15.35s/it]"
          ],
          "name": "stderr"
        },
        {
          "output_type": "stream",
          "text": [
            "(512, 512, 128)\n"
          ],
          "name": "stdout"
        },
        {
          "output_type": "stream",
          "text": [
            " 68%|██████▊   | 70/103 [08:43<07:45, 14.11s/it]"
          ],
          "name": "stderr"
        },
        {
          "output_type": "stream",
          "text": [
            "(512, 512, 128)\n"
          ],
          "name": "stdout"
        },
        {
          "output_type": "stream",
          "text": [
            "\r 69%|██████▉   | 71/103 [08:55<07:11, 13.48s/it]"
          ],
          "name": "stderr"
        },
        {
          "output_type": "stream",
          "text": [
            "(512, 512, 128)\n"
          ],
          "name": "stdout"
        },
        {
          "output_type": "stream",
          "text": [
            "\r 70%|██████▉   | 72/103 [09:07<06:40, 12.91s/it]"
          ],
          "name": "stderr"
        },
        {
          "output_type": "stream",
          "text": [
            "(512, 512, 128)\n"
          ],
          "name": "stdout"
        },
        {
          "output_type": "stream",
          "text": [
            "\r 71%|███████   | 73/103 [09:19<06:24, 12.82s/it]"
          ],
          "name": "stderr"
        },
        {
          "output_type": "stream",
          "text": [
            "(512, 512, 128)\n"
          ],
          "name": "stdout"
        },
        {
          "output_type": "stream",
          "text": [
            "\r 72%|███████▏  | 74/103 [09:34<06:31, 13.49s/it]"
          ],
          "name": "stderr"
        },
        {
          "output_type": "stream",
          "text": [
            "(512, 512, 128)\n"
          ],
          "name": "stdout"
        },
        {
          "output_type": "stream",
          "text": [
            "\r 73%|███████▎  | 75/103 [09:47<06:11, 13.28s/it]"
          ],
          "name": "stderr"
        },
        {
          "output_type": "stream",
          "text": [
            "(512, 512, 128)\n"
          ],
          "name": "stdout"
        },
        {
          "output_type": "stream",
          "text": [
            "\r 74%|███████▍  | 76/103 [10:00<05:55, 13.17s/it]"
          ],
          "name": "stderr"
        },
        {
          "output_type": "stream",
          "text": [
            "(512, 512, 128)\n"
          ],
          "name": "stdout"
        },
        {
          "output_type": "stream",
          "text": [
            "\r 75%|███████▍  | 77/103 [10:15<05:53, 13.61s/it]"
          ],
          "name": "stderr"
        },
        {
          "output_type": "stream",
          "text": [
            "(512, 512, 128)\n"
          ],
          "name": "stdout"
        },
        {
          "output_type": "stream",
          "text": [
            "\r 76%|███████▌  | 78/103 [10:33<06:15, 15.01s/it]"
          ],
          "name": "stderr"
        },
        {
          "output_type": "stream",
          "text": [
            "(512, 512, 128)\n",
            "(512, 512, 128)\n"
          ],
          "name": "stdout"
        },
        {
          "output_type": "stream",
          "text": [
            "\r 77%|███████▋  | 79/103 [10:47<05:56, 14.84s/it]"
          ],
          "name": "stderr"
        },
        {
          "output_type": "stream",
          "text": [
            "(512, 512, 128)\n"
          ],
          "name": "stdout"
        },
        {
          "output_type": "stream",
          "text": [
            " 79%|███████▊  | 81/103 [11:17<05:29, 14.99s/it]"
          ],
          "name": "stderr"
        },
        {
          "output_type": "stream",
          "text": [
            "(512, 512, 128)\n",
            "(512, 512, 128)\n"
          ],
          "name": "stdout"
        },
        {
          "output_type": "stream",
          "text": [
            "\r 80%|███████▉  | 82/103 [11:32<05:09, 14.72s/it]"
          ],
          "name": "stderr"
        },
        {
          "output_type": "stream",
          "text": [
            "(512, 512, 128)\n"
          ],
          "name": "stdout"
        },
        {
          "output_type": "stream",
          "text": [
            "\r 81%|████████  | 83/103 [11:47<04:58, 14.95s/it]"
          ],
          "name": "stderr"
        },
        {
          "output_type": "stream",
          "text": [
            "(512, 512, 128)\n"
          ],
          "name": "stdout"
        },
        {
          "output_type": "stream",
          "text": [
            "\r 82%|████████▏ | 84/103 [12:01<04:39, 14.73s/it]"
          ],
          "name": "stderr"
        },
        {
          "output_type": "stream",
          "text": [
            "(512, 512, 128)\n"
          ],
          "name": "stdout"
        },
        {
          "output_type": "stream",
          "text": [
            "\r 83%|████████▎ | 85/103 [12:15<04:21, 14.55s/it]"
          ],
          "name": "stderr"
        },
        {
          "output_type": "stream",
          "text": [
            "(512, 512, 128)\n"
          ],
          "name": "stdout"
        },
        {
          "output_type": "stream",
          "text": [
            "\r 83%|████████▎ | 86/103 [12:31<04:13, 14.89s/it]"
          ],
          "name": "stderr"
        },
        {
          "output_type": "stream",
          "text": [
            "(512, 512, 128)\n"
          ],
          "name": "stdout"
        },
        {
          "output_type": "stream",
          "text": [
            "\r 84%|████████▍ | 87/103 [12:47<04:02, 15.14s/it]"
          ],
          "name": "stderr"
        },
        {
          "output_type": "stream",
          "text": [
            "(512, 512, 128)\n"
          ],
          "name": "stdout"
        },
        {
          "output_type": "stream",
          "text": [
            "\r 85%|████████▌ | 88/103 [13:03<03:50, 15.38s/it]"
          ],
          "name": "stderr"
        },
        {
          "output_type": "stream",
          "text": [
            "(512, 512, 128)\n"
          ],
          "name": "stdout"
        },
        {
          "output_type": "stream",
          "text": [
            "\r 86%|████████▋ | 89/103 [13:20<03:42, 15.90s/it]"
          ],
          "name": "stderr"
        },
        {
          "output_type": "stream",
          "text": [
            "(512, 512, 128)\n"
          ],
          "name": "stdout"
        },
        {
          "output_type": "stream",
          "text": [
            " 88%|████████▊ | 91/103 [13:44<02:42, 13.56s/it]"
          ],
          "name": "stderr"
        },
        {
          "output_type": "stream",
          "text": [
            "(512, 512, 128)\n",
            "(512, 512, 128)\n"
          ],
          "name": "stdout"
        },
        {
          "output_type": "stream",
          "text": [
            "\r 89%|████████▉ | 92/103 [13:53<02:14, 12.19s/it]"
          ],
          "name": "stderr"
        },
        {
          "output_type": "stream",
          "text": [
            "(512, 512, 128)\n"
          ],
          "name": "stdout"
        },
        {
          "output_type": "stream",
          "text": [
            "\r 90%|█████████ | 93/103 [14:01<01:50, 11.02s/it]"
          ],
          "name": "stderr"
        },
        {
          "output_type": "stream",
          "text": [
            "(512, 512, 128)\n"
          ],
          "name": "stdout"
        },
        {
          "output_type": "stream",
          "text": [
            "\r 91%|█████████▏| 94/103 [14:10<01:33, 10.38s/it]"
          ],
          "name": "stderr"
        },
        {
          "output_type": "stream",
          "text": [
            "(512, 512, 128)\n"
          ],
          "name": "stdout"
        },
        {
          "output_type": "stream",
          "text": [
            "\r 92%|█████████▏| 95/103 [14:18<01:17,  9.73s/it]"
          ],
          "name": "stderr"
        },
        {
          "output_type": "stream",
          "text": [
            "(512, 512, 128)\n"
          ],
          "name": "stdout"
        },
        {
          "output_type": "stream",
          "text": [
            "\r 93%|█████████▎| 96/103 [14:27<01:06,  9.56s/it]"
          ],
          "name": "stderr"
        },
        {
          "output_type": "stream",
          "text": [
            "(512, 512, 128)\n"
          ],
          "name": "stdout"
        },
        {
          "output_type": "stream",
          "text": [
            "\r 94%|█████████▍| 97/103 [14:35<00:54,  9.08s/it]"
          ],
          "name": "stderr"
        },
        {
          "output_type": "stream",
          "text": [
            "(512, 512, 128)\n"
          ],
          "name": "stdout"
        },
        {
          "output_type": "stream",
          "text": [
            "\r 95%|█████████▌| 98/103 [14:43<00:43,  8.74s/it]"
          ],
          "name": "stderr"
        },
        {
          "output_type": "stream",
          "text": [
            "(512, 512, 128)\n"
          ],
          "name": "stdout"
        },
        {
          "output_type": "stream",
          "text": [
            " 97%|█████████▋| 100/103 [15:09<00:34, 11.46s/it]"
          ],
          "name": "stderr"
        },
        {
          "output_type": "stream",
          "text": [
            "(512, 512, 128)\n"
          ],
          "name": "stdout"
        },
        {
          "output_type": "stream",
          "text": [
            "\r 98%|█████████▊| 101/103 [15:22<00:23, 11.81s/it]"
          ],
          "name": "stderr"
        },
        {
          "output_type": "stream",
          "text": [
            "(512, 512, 128)\n",
            "(512, 512, 128)\n"
          ],
          "name": "stdout"
        },
        {
          "output_type": "stream",
          "text": [
            "100%|██████████| 103/103 [15:41<00:00,  9.14s/it]"
          ],
          "name": "stderr"
        },
        {
          "output_type": "stream",
          "text": [
            "(512, 512, 128)\n"
          ],
          "name": "stdout"
        },
        {
          "output_type": "stream",
          "text": [
            "\n"
          ],
          "name": "stderr"
        }
      ]
    },
    {
      "cell_type": "code",
      "metadata": {
        "colab": {
          "base_uri": "https://localhost:8080/"
        },
        "id": "JmUcIoPe95T6",
        "outputId": "30cd69d6-70b1-4583-aab6-a0ca3dd88641"
      },
      "source": [
        "pip install nilearn"
      ],
      "execution_count": null,
      "outputs": [
        {
          "output_type": "stream",
          "text": [
            "Collecting nilearn\n",
            "\u001b[?25l  Downloading https://files.pythonhosted.org/packages/c7/03/54010b2bbbf0e784ee11ca0d25bd644dba05e618d876f7fb8fdeb8eafaa0/nilearn-0.8.0-py3-none-any.whl (4.9MB)\n",
            "\u001b[K     |████████████████████████████████| 4.9MB 14.9MB/s \n",
            "\u001b[?25hRequirement already satisfied: requests>=2 in /usr/local/lib/python3.7/dist-packages (from nilearn) (2.23.0)\n",
            "Requirement already satisfied: scikit-learn>=0.21 in /usr/local/lib/python3.7/dist-packages (from nilearn) (0.22.2.post1)\n",
            "Requirement already satisfied: nibabel>=2.5 in /usr/local/lib/python3.7/dist-packages (from nilearn) (3.0.2)\n",
            "Requirement already satisfied: numpy>=1.16 in /usr/local/lib/python3.7/dist-packages (from nilearn) (1.19.5)\n",
            "Requirement already satisfied: pandas>=0.24.0 in /usr/local/lib/python3.7/dist-packages (from nilearn) (1.1.5)\n",
            "Requirement already satisfied: scipy>=1.2 in /usr/local/lib/python3.7/dist-packages (from nilearn) (1.4.1)\n",
            "Requirement already satisfied: joblib>=0.12 in /usr/local/lib/python3.7/dist-packages (from nilearn) (1.0.1)\n",
            "Requirement already satisfied: urllib3!=1.25.0,!=1.25.1,<1.26,>=1.21.1 in /usr/local/lib/python3.7/dist-packages (from requests>=2->nilearn) (1.24.3)\n",
            "Requirement already satisfied: certifi>=2017.4.17 in /usr/local/lib/python3.7/dist-packages (from requests>=2->nilearn) (2021.5.30)\n",
            "Requirement already satisfied: idna<3,>=2.5 in /usr/local/lib/python3.7/dist-packages (from requests>=2->nilearn) (2.10)\n",
            "Requirement already satisfied: chardet<4,>=3.0.2 in /usr/local/lib/python3.7/dist-packages (from requests>=2->nilearn) (3.0.4)\n",
            "Requirement already satisfied: python-dateutil>=2.7.3 in /usr/local/lib/python3.7/dist-packages (from pandas>=0.24.0->nilearn) (2.8.1)\n",
            "Requirement already satisfied: pytz>=2017.2 in /usr/local/lib/python3.7/dist-packages (from pandas>=0.24.0->nilearn) (2018.9)\n",
            "Requirement already satisfied: six>=1.5 in /usr/local/lib/python3.7/dist-packages (from python-dateutil>=2.7.3->pandas>=0.24.0->nilearn) (1.15.0)\n",
            "Installing collected packages: nilearn\n",
            "Successfully installed nilearn-0.8.0\n"
          ],
          "name": "stdout"
        }
      ]
    },
    {
      "cell_type": "code",
      "metadata": {
        "colab": {
          "base_uri": "https://localhost:8080/"
        },
        "id": "fk_O1LYAKo1z",
        "outputId": "d74defa5-14bf-4b9a-fe7d-a175f0c69c6a"
      },
      "source": [
        "%pylab inline\n",
        "import numpy as np\n",
        "import torch\n",
        "import os\n",
        "\n",
        "from torch import nn\n",
        "from torch import optim\n",
        "from torch.nn import functional as F\n",
        "from torch import autograd\n",
        "from torch.autograd import Variable\n",
        "import nibabel as nib\n",
        "from torch.utils.data.dataset import Dataset\n",
        "from torch.utils.data import dataloader\n",
        "from nilearn import plotting\n",
        "\n",
        "\n",
        "BATCH_SIZE=2\n",
        "max_epoch = 100\n",
        "lr = 0.0001\n",
        "gpu = True\n",
        "workers = 4\n",
        "\n",
        "LAMBDA= 10\n",
        "#setting latent variable sizes\n",
        "latent_dim = 1000\n",
        "\n",
        "import csv\n",
        "import numpy as np\n",
        "import torch\n",
        "from torch.utils.data.dataset import Dataset\n",
        "import os\n",
        "from torchvision import transforms\n",
        "from skimage.transform import resize\n",
        "from nilearn import surface\n",
        "from medpy.io import *\n",
        "import glob\n",
        "class ADNIdataset(Dataset):\n",
        "  def __init__(self,range, augmentation=False):\n",
        "    self.augmentation = augmentation\n",
        "    self.name = []\n",
        "    self.range=range\n",
        "    for data in self.range:\n",
        "    \tself.name.append('/content/data/total-'+str(data)+'.npy')\n",
        "    self.name = np.asarray(self.name)\n",
        "\n",
        "  def __len__(self):\n",
        "  \treturn len(self.name)\n",
        "\n",
        "  def __getitem__(self, index):\n",
        "    path = self.name[index]\n",
        "    img = np.load(path)\n",
        "\n",
        "    img = np.flip(img,1)\n",
        "    sp_size = 64\n",
        "    img = resize(img, (sp_size,sp_size,sp_size), mode='constant')\n",
        "  \t\n",
        "    if self.augmentation:\n",
        "      random_n = torch.rand(1)\n",
        "      if random_n[0] > 0.5:\n",
        "        img = np.flip(img,0)\n",
        "    \n",
        "    img = np.ascontiguousarray(img,dtype=np.float32)\n",
        "    imageout = torch.from_numpy(img).float().view(1,sp_size,sp_size,sp_size)\n",
        "    imageout = imageout*2-1\n",
        "\n",
        "    return imageout\n",
        "\n",
        "def calc_gradient_penalty(netD, real_data, fake_data):    \n",
        "    alpha = torch.rand(real_data.size(0),1,1,1,1)\n",
        "    alpha = alpha.expand(real_data.size())\n",
        "    \n",
        "    alpha = alpha.cuda()\n",
        "\n",
        "    interpolates = alpha * real_data + ((1 - alpha) * fake_data)\n",
        "\n",
        "    interpolates = interpolates.cuda()\n",
        "    interpolates = Variable(interpolates, requires_grad=True)\n",
        "\n",
        "    disc_interpolates = netD(interpolates)\n",
        "\n",
        "    gradients = autograd.grad(outputs=disc_interpolates, inputs=interpolates,\n",
        "                              grad_outputs=torch.ones(disc_interpolates.size()).cuda(),\n",
        "                              create_graph=True, retain_graph=True, only_inputs=True)[0]\n",
        "\n",
        "    gradient_penalty = ((gradients.norm(2, dim=1) - 1) ** 2).mean() * LAMBDA\n",
        "    return gradient_penalty\n",
        "def inf_train_gen(data_loader):\n",
        "    while True:\n",
        "        for _,images in enumerate(data_loader):\n",
        "            yield images"
      ],
      "execution_count": null,
      "outputs": [
        {
          "output_type": "stream",
          "text": [
            "Populating the interactive namespace from numpy and matplotlib\n"
          ],
          "name": "stdout"
        },
        {
          "output_type": "stream",
          "text": [
            "/usr/local/lib/python3.7/dist-packages/IPython/core/magics/pylab.py:161: UserWarning: pylab import has clobbered these variables: ['shape', 'save', 'load']\n",
            "`%matplotlib` prevents importing * from pylab and numpy\n",
            "  \"\\n`%matplotlib` prevents importing * from pylab and numpy\"\n",
            "/usr/local/lib/python3.7/dist-packages/nilearn/datasets/__init__.py:89: FutureWarning: Fetchers from the nilearn.datasets module will be updated in version 0.9 to return python strings instead of bytes and Pandas dataframes instead of Numpy arrays.\n",
            "  \"Numpy arrays.\", FutureWarning)\n"
          ],
          "name": "stderr"
        }
      ]
    },
    {
      "cell_type": "code",
      "metadata": {
        "id": "YHzvgma0TM59"
      },
      "source": [
        "\n",
        "import numpy as np\n",
        "import torch\n",
        "import os\n",
        "from torch import nn\n",
        "from torch import optim\n",
        "from torch.nn import functional as F\n",
        "\n",
        "class Discriminator(nn.Module):\n",
        "    def __init__(self, channel=512):\n",
        "        super(Discriminator, self).__init__()        \n",
        "        self.channel = channel\n",
        "        n_class = 1\n",
        "        \n",
        "        self.conv1 = nn.Conv3d(1, channel//8, kernel_size=4, stride=2, padding=1)\n",
        "        self.conv2 = nn.Conv3d(channel//8, channel//4, kernel_size=4, stride=2, padding=1)\n",
        "        self.bn2 = nn.BatchNorm3d(channel//4)\n",
        "        self.conv3 = nn.Conv3d(channel//4, channel//2, kernel_size=4, stride=2, padding=1)\n",
        "        self.bn3 = nn.BatchNorm3d(channel//2)\n",
        "        self.conv4 = nn.Conv3d(channel//2, channel, kernel_size=4, stride=2, padding=1)\n",
        "        self.bn4 = nn.BatchNorm3d(channel)\n",
        "        \n",
        "        self.conv5 = nn.Conv3d(channel, n_class, kernel_size=4, stride=2, padding=1)\n",
        "        \n",
        "    def forward(self, x, _return_activations=False):\n",
        "        h1 = F.leaky_relu(self.conv1(x), negative_slope=0.2)\n",
        "        h2 = F.leaky_relu(self.bn2(self.conv2(h1)), negative_slope=0.2)\n",
        "        h3 = F.leaky_relu(self.bn3(self.conv3(h2)), negative_slope=0.2)\n",
        "        h4 = F.leaky_relu(self.bn4(self.conv4(h3)), negative_slope=0.2)\n",
        "        h5 = self.conv5(h4)\n",
        "        output = h5\n",
        "\n",
        "        return output\n",
        "    \n",
        "\n",
        "class Generator(nn.Module):\n",
        "    def __init__(self, noise:int=1000, channel:int=64):\n",
        "        super(Generator, self).__init__()\n",
        "        _c = channel\n",
        "        \n",
        "        self.noise = noise\n",
        "        self.fc = nn.Linear(1000,512*4*4*4)\n",
        "        self.fc.requires_grad_=False\n",
        "        self.bn1 = nn.BatchNorm3d(_c*8)\n",
        "        self.bn1.requires_grad_=False\n",
        "        \n",
        "        self.tp_conv2 = nn.Conv3d(_c*8, _c*4, kernel_size=3, stride=1, padding=1, bias=False)\n",
        "        self.tp_conv2.requires_grad_=False\n",
        "        self.bn2 = nn.BatchNorm3d(_c*4)\n",
        "        self.bn2.requires_grad_=False\n",
        "        \n",
        "        self.tp_conv3 = nn.Conv3d(_c*4, _c*2, kernel_size=3, stride=1, padding=1, bias=False)\n",
        "        self.bn3 = nn.BatchNorm3d(_c*2)\n",
        "        \n",
        "        self.tp_conv4 = nn.Conv3d(_c*2, _c, kernel_size=3, stride=1, padding=1, bias=False)\n",
        "        self.bn4 = nn.BatchNorm3d(_c)\n",
        "        \n",
        "        self.tp_conv5 = nn.Conv3d(_c, 1, kernel_size=3, stride=1, padding=1, bias=False)\n",
        "        \n",
        "    def forward(self, noise):\n",
        "        noise = noise.view(-1, 1000)\n",
        "        h = self.fc(noise)\n",
        "        h = h.view(-1,512,4,4,4)\n",
        "        h = F.relu(self.bn1(h))\n",
        "\n",
        "        h = F.upsample(h,scale_factor = 2)\n",
        "        h = self.tp_conv2(h)\n",
        "        h = F.relu(self.bn2(h))\n",
        "        \n",
        "        h = F.upsample(h,scale_factor = 2)\n",
        "        h = self.tp_conv3(h)\n",
        "        h = F.relu(self.bn3(h))\n",
        "\n",
        "        h = F.upsample(h,scale_factor = 2)\n",
        "        h = self.tp_conv4(h)\n",
        "        h = F.relu(self.bn4(h))\n",
        "\n",
        "        h = F.upsample(h,scale_factor = 2)\n",
        "        h = self.tp_conv5(h)\n",
        "\n",
        "        h = F.tanh(h)\n",
        "\n",
        "        return h"
      ],
      "execution_count": null,
      "outputs": []
    },
    {
      "cell_type": "code",
      "metadata": {
        "id": "yz8k217Y11-O"
      },
      "source": [
        "trainset1 = ADNIdataset(list(range(65)),augmentation=True)\n",
        "train_loader1 = torch.utils.data.DataLoader(trainset1,batch_size=BATCH_SIZE,\n",
        "                                          shuffle=True,num_workers=workers)\n",
        "trainset2 = ADNIdataset(list(range(65,131)),augmentation=True)\n",
        "train_loader2 = torch.utils.data.DataLoader(trainset2,batch_size=BATCH_SIZE,\n",
        "                                          shuffle=True,num_workers=workers)"
      ],
      "execution_count": null,
      "outputs": []
    },
    {
      "cell_type": "code",
      "metadata": {
        "id": "viwzmKOwypBn"
      },
      "source": [
        "\n",
        "\n",
        "\n",
        "d=torch.load('/content/gdrive/MyDrive/discriminator_199.pth',map_location='cuda:0')\n",
        "g=torch.load('/content/gdrive/MyDrive/generator_199.pth',map_location='cuda:0')\n",
        "D1 = Discriminator().cuda()\n",
        "G1 = Generator().cuda()\n",
        "a=torch.load('/content/gdrive/MyDrive/segmentation/WGAN_G(1).pth',map_location='cuda:0')\n",
        "\n",
        "G1.load_state_dict(g['model_state_dict'])\n",
        "D1.load_state_dict(d['model_state_dict'])\n",
        "\n",
        "g_optimizer1 = optim.Adam(G1.parameters(), lr=0.0002)\n",
        "d_optimizer1 = optim.Adam(D1.parameters(), lr=0.0002)\n",
        "\n",
        "g_optimizer1.load_state_dict(g['optimizer_state_dict1'])\n",
        "d_optimizer1.load_state_dict(d['optimizer_state_dict1'])\n",
        "\n",
        "D2 = Discriminator().cuda()\n",
        "G2 = Generator().cuda()\n",
        "\n",
        "G2.load_state_dict(g['model_state_dict'])\n",
        "D2.load_state_dict(d['model_state_dict'])\n",
        "\n",
        "g_optimizer2 = optim.Adam(G2.parameters(), lr=0.0002)\n",
        "d_optimizer2 = optim.Adam(D2.parameters(), lr=0.0002)\n",
        "\n",
        "\n",
        "g_optimizer2.load_state_dict(g['optimizer_state_dict2'])\n",
        "d_optimizer2.load_state_dict(d['optimizer_state_dict2'])\n",
        "\n",
        "D_org = Discriminator().cuda()\n",
        "G_org = Generator().cuda()\n",
        "\n",
        "\n",
        "\n"
      ],
      "execution_count": null,
      "outputs": []
    },
    {
      "cell_type": "code",
      "metadata": {
        "id": "x3zlqm1914Co"
      },
      "source": [
        "\n",
        "real_y = Variable(torch.ones((BATCH_SIZE, 1)).cuda())\n",
        "fake_y = Variable(torch.zeros((BATCH_SIZE, 1)).cuda())\n",
        "loss_f = nn.BCELoss()"
      ],
      "execution_count": null,
      "outputs": []
    },
    {
      "cell_type": "code",
      "metadata": {
        "id": "seuR-gSJLF0u"
      },
      "source": [
        "Ds=[D1,D2]\n",
        "Gs=[G1,G2]\n",
        "train_loaders=[inf_train_gen(train_loader1),inf_train_gen(train_loader2)]\n",
        "d_optimizers=[d_optimizer1,d_optimizer2]\n",
        "g_optimizers=[g_optimizer1,g_optimizer2]"
      ],
      "execution_count": null,
      "outputs": []
    },
    {
      "cell_type": "code",
      "metadata": {
        "colab": {
          "base_uri": "https://localhost:8080/"
        },
        "id": "I1y95glPM1vZ",
        "outputId": "0f4add8d-5446-4849-94b8-4ee3026cc29a"
      },
      "source": [
        "from tqdm import tqdm\n",
        "import torch.distributions as tdist\n",
        "TOTAL_ITER = 66\n",
        "pace=10\n",
        "for epoch in range(200):\n",
        " for iteration in tqdm(range(TOTAL_ITER)):\n",
        "  for num in range(2):\n",
        "    ###############################################\n",
        "    # Train D \n",
        "    ###############################################\n",
        "    d_optimizer=d_optimizers[num]\n",
        "    g_optimizer=g_optimizers[num]\n",
        "    D=Ds[num]\n",
        "    G=Gs[num]\n",
        "    for p in D.parameters():  \n",
        "        p.requires_grad = True \n",
        "\n",
        "    real_images = train_loaders[num].__next__()\n",
        "    if real_images.shape[0]==1:\n",
        "      real_images = train_loaders[num].__next__()\n",
        "      \n",
        "    D.zero_grad()\n",
        "    real_images = Variable(real_images).cuda()\n",
        "\n",
        "    _batch_size = real_images.size(0)\n",
        "\n",
        "\n",
        "    y_real_pred = D(real_images)\n",
        "\n",
        "    d_real_loss = y_real_pred.mean()\n",
        "    \n",
        "    noise = Variable(torch.randn((_batch_size, latent_dim, 1, 1, 1)),volatile=True).cuda()\n",
        "    fake_images = G(noise)\n",
        "    y_fake_pred = D(fake_images.detach())\n",
        "\n",
        "    d_fake_loss = y_fake_pred.mean()\n",
        "\n",
        "    gradient_penalty = calc_gradient_penalty(D,real_images.data, fake_images.data)\n",
        " \n",
        "    d_loss = - d_real_loss + d_fake_loss +gradient_penalty\n",
        "    d_loss.backward()\n",
        "    Wasserstein_D = d_real_loss - d_fake_loss\n",
        "\n",
        "    d_optimizer.step()\n",
        "\n",
        "    ###############################################\n",
        "    # Train G \n",
        "    ###############################################\n",
        "    for p in D.parameters():\n",
        "        p.requires_grad = False\n",
        "        \n",
        "    for iters in range(5):\n",
        "        G.zero_grad()\n",
        "        noise = Variable(torch.randn((_batch_size, latent_dim, 1, 1 ,1)).cuda())\n",
        "        fake_image =G(noise)\n",
        "        y_fake_g = D(fake_image)\n",
        "\n",
        "        g_loss = -y_fake_g.mean()\n",
        "\n",
        "        g_loss.backward()\n",
        "        g_optimizer.step()\n",
        "  device='cuda'\n",
        "  if iteration%pace ==0:\n",
        "    with torch.no_grad():\n",
        "        for key in D_org.state_dict().keys():\n",
        "            \n",
        "            if Ds[0].state_dict()[key].dtype == torch.int64:\n",
        "                D_org.state_dict()[key].data.copy_(Ds[0].state_dict()[key])\n",
        "            else:\n",
        "                temp = torch.zeros_like(D_org.state_dict()[key])\n",
        "                for s in range(2):\n",
        "                    try:\n",
        "                      nn = tdist.Normal(torch.tensor([0.0]), 1e-5*torch.std(Ds[s].state_dict()[key].detach().cpu()))\n",
        "                    except:\n",
        "                      nn = tdist.Normal(torch.tensor([0.0]), 1e-5*1e-3)\n",
        "                    shape=Ds[s].state_dict()[key].shape\n",
        "                    noise = nn.sample(shape).reshape(shape)\n",
        "                    noise = noise.to(device)\n",
        "                    if s==0:\n",
        "                      t_noise=noise\n",
        "                    else:\n",
        "                      t_noise+=noise\n",
        "                    temp += 0.5*(Ds[s].state_dict()[key]+noise)\n",
        "                D_org.state_dict()[key].data.copy_(temp)\n",
        "                \n",
        "                \n",
        "                for s in range(2):\n",
        "                        Ds[s].state_dict()[key].data.copy_(D_org.state_dict()[key])\n",
        "\n",
        "\n",
        "\n",
        "        for key in G_org.state_dict().keys():\n",
        "            if Gs[0].state_dict()[key].dtype == torch.int64:\n",
        "                G_org.state_dict()[key].data.copy_(Gs[0].state_dict()[key])\n",
        "            else:\n",
        "                temp = torch.zeros_like(G_org.state_dict()[key])\n",
        "                for s in range(2):\n",
        "                    try:\n",
        "                      nn = tdist.Normal(torch.tensor([0.0]), 1e-5*torch.std(Gs[s].state_dict()[key].detach().cpu()))\n",
        "                    except:\n",
        "                      nn = tdist.Normal(torch.tensor([0.0]), 1e-5*1e-3)\n",
        "                    shape=Gs[s].state_dict()[key].shape\n",
        "                    noise = nn.sample(shape).reshape(shape)\n",
        "                    noise = noise.to(device)\n",
        "                    if s==0:\n",
        "                      t_noise=noise\n",
        "                    else:\n",
        "                      t_noise+=noise\n",
        "                    temp += 0.5*(Gs[s].state_dict()[key]+noise)\n",
        "                G_org.state_dict()[key].data.copy_(temp)\n",
        "                for s in range(2):\n",
        "                        Gs[s].state_dict()[key].data.copy_(G_org.state_dict()[key])\n",
        "if (epoch%50)==0:\n",
        " torch.save({\n",
        "            'model_state_dict': G_org.state_dict(),\n",
        "            'optimizer_state_dict1': g_optimizer1.state_dict(),\n",
        "            'optimizer_state_dict2': g_optimizer2.state_dict()\n",
        "            }, '/content/gdrive/MyDrive/generator_'+str(epoch)+'.pth')\n",
        " torch.save({\n",
        "            'model_state_dict': D_org.state_dict(),\n",
        "            'optimizer_state_dict1': d_optimizer1.state_dict(),\n",
        "            'optimizer_state_dict2': d_optimizer2.state_dict()\n",
        "            }, '/content/gdrive/MyDrive/discriminator_'+str(epoch)+'.pth')"
      ],
      "execution_count": null,
      "outputs": [
        {
          "output_type": "stream",
          "text": [
            "  0%|          | 0/66 [00:00<?, ?it/s]/usr/local/lib/python3.7/dist-packages/ipykernel_launcher.py:32: UserWarning: volatile was removed and now has no effect. Use `with torch.no_grad():` instead.\n",
            "/usr/local/lib/python3.7/dist-packages/torch/nn/functional.py:3487: UserWarning: nn.functional.upsample is deprecated. Use nn.functional.interpolate instead.\n",
            "  warnings.warn(\"nn.functional.upsample is deprecated. Use nn.functional.interpolate instead.\")\n",
            "/usr/local/lib/python3.7/dist-packages/torch/nn/functional.py:1794: UserWarning: nn.functional.tanh is deprecated. Use torch.tanh instead.\n",
            "  warnings.warn(\"nn.functional.tanh is deprecated. Use torch.tanh instead.\")\n",
            "100%|██████████| 66/66 [07:43<00:00,  7.02s/it]\n",
            "100%|██████████| 66/66 [05:37<00:00,  5.11s/it]\n",
            "100%|██████████| 66/66 [05:17<00:00,  4.80s/it]\n",
            "100%|██████████| 66/66 [05:24<00:00,  4.91s/it]\n",
            "100%|██████████| 66/66 [05:46<00:00,  5.25s/it]\n",
            "100%|██████████| 66/66 [05:21<00:00,  4.86s/it]\n",
            "100%|██████████| 66/66 [05:26<00:00,  4.95s/it]\n",
            "100%|██████████| 66/66 [05:49<00:00,  5.30s/it]\n",
            "100%|██████████| 66/66 [05:28<00:00,  4.98s/it]\n",
            "100%|██████████| 66/66 [05:34<00:00,  5.07s/it]\n",
            "100%|██████████| 66/66 [06:08<00:00,  5.58s/it]\n",
            "100%|██████████| 66/66 [05:35<00:00,  5.08s/it]\n",
            "100%|██████████| 66/66 [05:50<00:00,  5.31s/it]\n",
            "100%|██████████| 66/66 [05:36<00:00,  5.10s/it]\n",
            "100%|██████████| 66/66 [05:25<00:00,  4.93s/it]\n",
            "100%|██████████| 66/66 [05:28<00:00,  4.98s/it]\n",
            "100%|██████████| 66/66 [06:02<00:00,  5.50s/it]\n",
            "100%|██████████| 66/66 [05:27<00:00,  4.96s/it]\n",
            "100%|██████████| 66/66 [05:23<00:00,  4.89s/it]\n",
            "100%|██████████| 66/66 [05:55<00:00,  5.38s/it]\n",
            "100%|██████████| 66/66 [05:15<00:00,  4.78s/it]\n",
            "100%|██████████| 66/66 [05:08<00:00,  4.67s/it]\n",
            "100%|██████████| 66/66 [05:33<00:00,  5.06s/it]\n",
            "100%|██████████| 66/66 [05:20<00:00,  4.86s/it]\n",
            "100%|██████████| 66/66 [05:37<00:00,  5.11s/it]\n",
            "100%|██████████| 66/66 [05:44<00:00,  5.22s/it]\n",
            "100%|██████████| 66/66 [05:37<00:00,  5.12s/it]\n",
            "100%|██████████| 66/66 [05:31<00:00,  5.03s/it]\n",
            "100%|██████████| 66/66 [05:25<00:00,  4.92s/it]\n",
            "100%|██████████| 66/66 [05:13<00:00,  4.75s/it]\n",
            "100%|██████████| 66/66 [05:26<00:00,  4.94s/it]\n",
            "100%|██████████| 66/66 [05:30<00:00,  5.01s/it]\n",
            "100%|██████████| 66/66 [05:50<00:00,  5.32s/it]\n",
            "100%|██████████| 66/66 [06:02<00:00,  5.49s/it]\n",
            "100%|██████████| 66/66 [05:47<00:00,  5.27s/it]\n",
            "100%|██████████| 66/66 [05:26<00:00,  4.94s/it]\n",
            "100%|██████████| 66/66 [05:38<00:00,  5.13s/it]\n",
            "100%|██████████| 66/66 [05:24<00:00,  4.91s/it]\n",
            "100%|██████████| 66/66 [05:38<00:00,  5.13s/it]\n",
            "100%|██████████| 66/66 [05:48<00:00,  5.28s/it]\n",
            "100%|██████████| 66/66 [05:43<00:00,  5.21s/it]\n",
            "100%|██████████| 66/66 [05:39<00:00,  5.14s/it]\n",
            "100%|██████████| 66/66 [05:37<00:00,  5.12s/it]\n",
            "100%|██████████| 66/66 [05:15<00:00,  4.78s/it]\n",
            "100%|██████████| 66/66 [05:36<00:00,  5.10s/it]\n",
            "100%|██████████| 66/66 [05:36<00:00,  5.10s/it]\n",
            "100%|██████████| 66/66 [05:19<00:00,  4.84s/it]\n",
            "100%|██████████| 66/66 [05:37<00:00,  5.11s/it]\n",
            "100%|██████████| 66/66 [05:49<00:00,  5.30s/it]\n",
            "100%|██████████| 66/66 [05:46<00:00,  5.24s/it]\n",
            "100%|██████████| 66/66 [05:45<00:00,  5.24s/it]\n",
            "100%|██████████| 66/66 [05:49<00:00,  5.29s/it]\n",
            "100%|██████████| 66/66 [06:00<00:00,  5.47s/it]\n",
            "100%|██████████| 66/66 [05:32<00:00,  5.04s/it]\n",
            "100%|██████████| 66/66 [05:26<00:00,  4.94s/it]\n",
            "100%|██████████| 66/66 [05:19<00:00,  4.84s/it]\n",
            "100%|██████████| 66/66 [05:50<00:00,  5.32s/it]\n",
            "100%|██████████| 66/66 [05:46<00:00,  5.25s/it]\n",
            "100%|██████████| 66/66 [05:27<00:00,  4.97s/it]\n",
            "100%|██████████| 66/66 [05:36<00:00,  5.09s/it]\n",
            "100%|██████████| 66/66 [05:31<00:00,  5.02s/it]\n",
            "100%|██████████| 66/66 [05:29<00:00,  4.99s/it]\n",
            "100%|██████████| 66/66 [05:45<00:00,  5.23s/it]\n",
            "100%|██████████| 66/66 [05:38<00:00,  5.13s/it]\n",
            "100%|██████████| 66/66 [06:02<00:00,  5.49s/it]\n",
            "100%|██████████| 66/66 [05:45<00:00,  5.24s/it]\n",
            "100%|██████████| 66/66 [05:41<00:00,  5.18s/it]\n",
            "100%|██████████| 66/66 [05:41<00:00,  5.18s/it]\n",
            "100%|██████████| 66/66 [05:27<00:00,  4.96s/it]\n",
            "100%|██████████| 66/66 [05:38<00:00,  5.12s/it]\n",
            "100%|██████████| 66/66 [05:58<00:00,  5.44s/it]\n",
            "100%|██████████| 66/66 [05:47<00:00,  5.26s/it]\n",
            "100%|██████████| 66/66 [05:43<00:00,  5.20s/it]\n",
            "100%|██████████| 66/66 [06:06<00:00,  5.55s/it]\n",
            "100%|██████████| 66/66 [06:02<00:00,  5.49s/it]\n",
            "100%|██████████| 66/66 [06:11<00:00,  5.63s/it]\n",
            "100%|██████████| 66/66 [06:06<00:00,  5.56s/it]\n",
            "100%|██████████| 66/66 [05:29<00:00,  4.99s/it]\n",
            "100%|██████████| 66/66 [05:33<00:00,  5.06s/it]\n",
            "100%|██████████| 66/66 [05:27<00:00,  4.96s/it]\n",
            "100%|██████████| 66/66 [05:18<00:00,  4.83s/it]\n",
            "100%|██████████| 66/66 [05:37<00:00,  5.12s/it]\n",
            "100%|██████████| 66/66 [05:31<00:00,  5.02s/it]\n",
            "100%|██████████| 66/66 [05:43<00:00,  5.21s/it]\n",
            "100%|██████████| 66/66 [05:37<00:00,  5.12s/it]\n",
            "100%|██████████| 66/66 [05:23<00:00,  4.89s/it]\n",
            "100%|██████████| 66/66 [05:51<00:00,  5.33s/it]\n",
            "100%|██████████| 66/66 [05:18<00:00,  4.82s/it]\n",
            "100%|██████████| 66/66 [05:31<00:00,  5.02s/it]\n",
            "100%|██████████| 66/66 [06:02<00:00,  5.49s/it]\n",
            "100%|██████████| 66/66 [05:29<00:00,  4.99s/it]\n",
            "100%|██████████| 66/66 [05:33<00:00,  5.05s/it]\n",
            "100%|██████████| 66/66 [05:22<00:00,  4.88s/it]\n",
            "100%|██████████| 66/66 [05:27<00:00,  4.96s/it]\n",
            "100%|██████████| 66/66 [05:29<00:00,  4.99s/it]\n",
            "100%|██████████| 66/66 [05:42<00:00,  5.19s/it]\n",
            "100%|██████████| 66/66 [06:06<00:00,  5.55s/it]\n",
            "100%|██████████| 66/66 [05:45<00:00,  5.24s/it]\n",
            "100%|██████████| 66/66 [05:01<00:00,  4.57s/it]\n",
            "100%|██████████| 66/66 [05:40<00:00,  5.16s/it]\n",
            "100%|██████████| 66/66 [05:37<00:00,  5.12s/it]\n",
            "100%|██████████| 66/66 [06:06<00:00,  5.55s/it]\n",
            "100%|██████████| 66/66 [06:07<00:00,  5.57s/it]\n",
            "100%|██████████| 66/66 [05:56<00:00,  5.40s/it]\n",
            "100%|██████████| 66/66 [06:00<00:00,  5.46s/it]\n",
            "100%|██████████| 66/66 [05:48<00:00,  5.28s/it]\n",
            "100%|██████████| 66/66 [05:47<00:00,  5.27s/it]\n",
            "100%|██████████| 66/66 [05:28<00:00,  4.98s/it]\n",
            "100%|██████████| 66/66 [05:51<00:00,  5.32s/it]\n",
            "100%|██████████| 66/66 [06:01<00:00,  5.48s/it]\n",
            "100%|██████████| 66/66 [05:22<00:00,  4.88s/it]\n",
            "100%|██████████| 66/66 [05:44<00:00,  5.21s/it]\n",
            "100%|██████████| 66/66 [05:46<00:00,  5.25s/it]\n",
            "100%|██████████| 66/66 [05:32<00:00,  5.04s/it]\n",
            "100%|██████████| 66/66 [05:34<00:00,  5.06s/it]\n",
            "100%|██████████| 66/66 [05:19<00:00,  4.85s/it]\n",
            "100%|██████████| 66/66 [06:00<00:00,  5.46s/it]\n",
            "100%|██████████| 66/66 [05:40<00:00,  5.16s/it]\n",
            "100%|██████████| 66/66 [05:38<00:00,  5.13s/it]\n",
            "100%|██████████| 66/66 [05:23<00:00,  4.89s/it]\n",
            "100%|██████████| 66/66 [05:40<00:00,  5.15s/it]\n",
            "100%|██████████| 66/66 [05:34<00:00,  5.07s/it]\n",
            "100%|██████████| 66/66 [05:23<00:00,  4.91s/it]\n",
            "100%|██████████| 66/66 [05:07<00:00,  4.65s/it]\n",
            "100%|██████████| 66/66 [05:39<00:00,  5.15s/it]\n",
            "100%|██████████| 66/66 [05:28<00:00,  4.98s/it]\n",
            "100%|██████████| 66/66 [05:45<00:00,  5.23s/it]\n",
            "100%|██████████| 66/66 [05:56<00:00,  5.41s/it]\n",
            "100%|██████████| 66/66 [05:44<00:00,  5.22s/it]\n",
            "100%|██████████| 66/66 [05:18<00:00,  4.83s/it]\n",
            "100%|██████████| 66/66 [05:29<00:00,  4.99s/it]\n",
            "100%|██████████| 66/66 [05:35<00:00,  5.08s/it]\n",
            "100%|██████████| 66/66 [05:36<00:00,  5.11s/it]\n",
            "100%|██████████| 66/66 [05:17<00:00,  4.81s/it]\n",
            "100%|██████████| 66/66 [05:32<00:00,  5.03s/it]\n",
            "100%|██████████| 66/66 [06:05<00:00,  5.53s/it]\n",
            "100%|██████████| 66/66 [05:40<00:00,  5.15s/it]\n",
            "100%|██████████| 66/66 [05:37<00:00,  5.12s/it]\n",
            "100%|██████████| 66/66 [05:33<00:00,  5.05s/it]\n",
            "100%|██████████| 66/66 [05:25<00:00,  4.93s/it]\n",
            "100%|██████████| 66/66 [05:01<00:00,  4.57s/it]\n",
            "100%|██████████| 66/66 [05:29<00:00,  4.99s/it]\n",
            "100%|██████████| 66/66 [05:41<00:00,  5.18s/it]\n",
            "100%|██████████| 66/66 [05:39<00:00,  5.15s/it]\n",
            "100%|██████████| 66/66 [05:39<00:00,  5.14s/it]\n",
            "100%|██████████| 66/66 [05:20<00:00,  4.85s/it]\n",
            "100%|██████████| 66/66 [05:45<00:00,  5.24s/it]\n",
            "100%|██████████| 66/66 [05:32<00:00,  5.04s/it]\n",
            "100%|██████████| 66/66 [05:15<00:00,  4.79s/it]\n",
            "100%|██████████| 66/66 [05:40<00:00,  5.16s/it]\n",
            "100%|██████████| 66/66 [05:28<00:00,  4.98s/it]\n",
            "100%|██████████| 66/66 [05:32<00:00,  5.04s/it]\n",
            "100%|██████████| 66/66 [05:25<00:00,  4.93s/it]\n",
            "100%|██████████| 66/66 [05:54<00:00,  5.37s/it]\n",
            "100%|██████████| 66/66 [05:59<00:00,  5.45s/it]\n",
            "100%|██████████| 66/66 [05:31<00:00,  5.03s/it]\n",
            "100%|██████████| 66/66 [05:43<00:00,  5.21s/it]\n",
            "100%|██████████| 66/66 [05:46<00:00,  5.25s/it]\n",
            "100%|██████████| 66/66 [05:40<00:00,  5.15s/it]\n",
            "100%|██████████| 66/66 [05:31<00:00,  5.03s/it]\n",
            "100%|██████████| 66/66 [05:42<00:00,  5.19s/it]\n",
            "100%|██████████| 66/66 [05:25<00:00,  4.93s/it]\n",
            "100%|██████████| 66/66 [05:20<00:00,  4.85s/it]\n",
            "100%|██████████| 66/66 [05:26<00:00,  4.95s/it]\n",
            "100%|██████████| 66/66 [05:28<00:00,  4.98s/it]\n",
            "100%|██████████| 66/66 [05:44<00:00,  5.21s/it]\n",
            "100%|██████████| 66/66 [05:43<00:00,  5.20s/it]\n",
            "100%|██████████| 66/66 [05:45<00:00,  5.23s/it]\n",
            "100%|██████████| 66/66 [05:42<00:00,  5.19s/it]\n",
            "100%|██████████| 66/66 [05:49<00:00,  5.29s/it]\n",
            "100%|██████████| 66/66 [05:54<00:00,  5.37s/it]\n",
            "100%|██████████| 66/66 [05:43<00:00,  5.20s/it]\n",
            "100%|██████████| 66/66 [05:37<00:00,  5.11s/it]\n",
            "100%|██████████| 66/66 [05:16<00:00,  4.80s/it]\n",
            "100%|██████████| 66/66 [05:37<00:00,  5.11s/it]\n",
            "100%|██████████| 66/66 [05:19<00:00,  4.84s/it]\n",
            "100%|██████████| 66/66 [05:20<00:00,  4.86s/it]\n",
            "100%|██████████| 66/66 [05:18<00:00,  4.83s/it]\n",
            "100%|██████████| 66/66 [05:42<00:00,  5.19s/it]\n",
            "100%|██████████| 66/66 [05:35<00:00,  5.09s/it]\n",
            "100%|██████████| 66/66 [05:34<00:00,  5.08s/it]\n",
            "100%|██████████| 66/66 [05:24<00:00,  4.92s/it]\n",
            "100%|██████████| 66/66 [06:11<00:00,  5.62s/it]\n",
            "100%|██████████| 66/66 [05:49<00:00,  5.30s/it]\n",
            "100%|██████████| 66/66 [06:00<00:00,  5.46s/it]\n",
            "100%|██████████| 66/66 [05:50<00:00,  5.31s/it]\n",
            "100%|██████████| 66/66 [05:40<00:00,  5.16s/it]\n",
            "100%|██████████| 66/66 [05:25<00:00,  4.94s/it]\n",
            "100%|██████████| 66/66 [05:34<00:00,  5.07s/it]\n",
            "100%|██████████| 66/66 [05:54<00:00,  5.37s/it]\n",
            "100%|██████████| 66/66 [05:25<00:00,  4.94s/it]\n",
            "100%|██████████| 66/66 [05:27<00:00,  4.97s/it]\n",
            "100%|██████████| 66/66 [05:47<00:00,  5.26s/it]\n",
            "100%|██████████| 66/66 [05:41<00:00,  5.17s/it]\n",
            "100%|██████████| 66/66 [05:26<00:00,  4.95s/it]\n",
            "100%|██████████| 66/66 [05:38<00:00,  5.13s/it]\n",
            "100%|██████████| 66/66 [05:37<00:00,  5.12s/it]\n",
            "100%|██████████| 66/66 [05:24<00:00,  4.92s/it]\n",
            "100%|██████████| 66/66 [05:23<00:00,  4.89s/it]\n",
            "100%|██████████| 66/66 [06:00<00:00,  5.46s/it]\n"
          ],
          "name": "stderr"
        }
      ]
    },
    {
      "cell_type": "code",
      "metadata": {
        "id": "Zjc8P1M5ErCM"
      },
      "source": [
        " torch.save({\n",
        "            'model_state_dict': G_org.state_dict(),\n",
        "            'optimizer_state_dict1': g_optimizer1.state_dict(),\n",
        "            'optimizer_state_dict2': g_optimizer2.state_dict()\n",
        "            }, '/content/gdrive/MyDrive/generator_'+str(epoch)+'.pth')\n",
        " torch.save({\n",
        "            'model_state_dict': D_org.state_dict(),\n",
        "            'optimizer_state_dict1': d_optimizer1.state_dict(),\n",
        "            'optimizer_state_dict2': d_optimizer2.state_dict()\n",
        "            }, '/content/gdrive/MyDrive/discriminator_'+str(epoch)+'.pth')"
      ],
      "execution_count": null,
      "outputs": []
    },
    {
      "cell_type": "code",
      "metadata": {
        "id": "DcAB97LoEq9H"
      },
      "source": [
        ""
      ],
      "execution_count": null,
      "outputs": []
    },
    {
      "cell_type": "code",
      "metadata": {
        "id": "cFnuJhXxnAyO"
      },
      "source": [
        ""
      ],
      "execution_count": null,
      "outputs": []
    },
    {
      "cell_type": "code",
      "metadata": {
        "id": "2LLm-uAKnA1U"
      },
      "source": [
        ""
      ],
      "execution_count": null,
      "outputs": []
    },
    {
      "cell_type": "code",
      "metadata": {
        "id": "vEsOBVTsnA4S"
      },
      "source": [
        ""
      ],
      "execution_count": null,
      "outputs": []
    },
    {
      "cell_type": "code",
      "metadata": {
        "id": "ESv7OF2onA7C"
      },
      "source": [
        ""
      ],
      "execution_count": null,
      "outputs": []
    }
  ]
}