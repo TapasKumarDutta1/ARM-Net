{
  "nbformat": 4,
  "nbformat_minor": 0,
  "metadata": {
    "colab": {
      "name": "Untitled176.ipynb",
      "provenance": [],
      "authorship_tag": "ABX9TyOEIo6HPcFvbhl8H/g2uVwo",
      "include_colab_link": true
    },
    "kernelspec": {
      "name": "python3",
      "display_name": "Python 3"
    },
    "language_info": {
      "name": "python"
    }
  },
  "cells": [
    {
      "cell_type": "markdown",
      "metadata": {
        "id": "view-in-github",
        "colab_type": "text"
      },
      "source": [
        "<a href=\"https://colab.research.google.com/github/greyhound101/gan_segmentation_FE/blob/main/Untitled176.ipynb\" target=\"_parent\"><img src=\"https://colab.research.google.com/assets/colab-badge.svg\" alt=\"Open In Colab\"/></a>"
      ]
    },
    {
      "cell_type": "code",
      "metadata": {
        "id": "HZ-dLvTrxJeT"
      },
      "source": [
        "def DenseUNet(img_input, nb_dense_block=4, growth_rate=48, nb_filter=96, reduction=0.0, dropout_rate=0.0, weight_decay=1e-4, classes=1000, weights_path=None):\n",
        "    eps = 1.1e-5\n",
        "    compression = 1.0 - reduction\n",
        "    global concat_axis\n",
        "    concat_axis = 3\n",
        "    nb_filter = 96\n",
        "    nb_layers = [6,12,36,24] # For DenseNet-161\n",
        "    box = []\n",
        "    x = ZeroPadding2D((3, 3), name='conv1_zeropadding')(img_input)\n",
        "    x = Conv2D(nb_filter, (7, 7), strides=(2, 2), name='conv1', use_bias=False, trainable=True)(x)\n",
        "    x = BatchNormalization(epsilon=eps, axis=concat_axis, momentum = 1, name='conv1_bn', trainable=False)(x, training=False)\n",
        "    x = Scale(axis=concat_axis, name='conv1_scale')(x)\n",
        "    x = Activation('relu', name='relu1')(x)\n",
        "    box.append(x)\n",
        "    x = ZeroPadding2D((1, 1), name='pool1_zeropadding')(x)\n",
        "    x = MaxPooling2D((3, 3), strides=(2, 2), name='pool1')(x)\n",
        "    for block_idx in range(nb_dense_block - 1):\n",
        "        stage = block_idx+2\n",
        "        x, nb_filter = dense_block(x, stage, nb_layers[block_idx], nb_filter, growth_rate, dropout_rate=dropout_rate, weight_decay=weight_decay)\n",
        "        box.append(x)\n",
        "        # Add transition_block\n",
        "        x = transition_block(x, stage, nb_filter, compression=compression, dropout_rate=dropout_rate, weight_decay=weight_decay)\n",
        "        nb_filter = int(nb_filter * compression)\n",
        "    final_stage = stage + 1\n",
        "    x, nb_filter = dense_block(x, final_stage, nb_layers[-1], nb_filter, growth_rate, dropout_rate=dropout_rate, weight_decay=weight_decay)\n",
        "\n",
        "    x = BatchNormalization(epsilon=eps, axis=concat_axis, momentum = 1, name='conv'+str(final_stage)+'_blk_bn', trainable=False)(x, training=False)\n",
        "    x = Scale(axis=concat_axis, name='conv'+str(final_stage)+'_blk_scale')(x)\n",
        "    x = Activation('relu', name='relu'+str(final_stage)+'_blk')(x)\n",
        "    box.append(x)\n",
        "\n",
        "    up0 = UpSampling2D(size=(2,2))(x)\n",
        "    conv_up0 = Conv2D(768, (3, 3), padding=\"same\", name = \"conv_up0\", trainable=True)(up0)\n",
        "    bn_up0 = BatchNormalization(name = \"bn_up0\", momentum = 1, trainable=False)(conv_up0, training=False)\n",
        "    ac_up0 = Activation('relu', name='ac_up0')(bn_up0)\n",
        "\n",
        "    up1 = UpSampling2D(size=(2,2))(ac_up0)\n",
        "    conv_up1 = Conv2D(384, (3, 3), padding=\"same\", name = \"conv_up1\", trainable=True)(up1)\n",
        "    bn_up1 = BatchNormalization(name = \"bn_up1\", momentum = 1, trainable=False)(conv_up1, training=False)\n",
        "    ac_up1 = Activation('relu', name='ac_up1')(bn_up1)\n",
        "\n",
        "    up2 = UpSampling2D(size=(2,2))(ac_up1)\n",
        "    conv_up2 = Conv2D(96, (3, 3), padding=\"same\", name = \"conv_up2\", trainable=True)(up2)\n",
        "    bn_up2 = BatchNormalization(name = \"bn_up2\", momentum = 1, trainable=False)(conv_up2, training=False)\n",
        "    ac_up2 = Activation('relu', name='ac_up2')(bn_up2)\n",
        "\n",
        "    up3 = UpSampling2D(size=(2,2))(ac_up2)\n",
        "    conv_up3 = Conv2D(96, (3, 3), padding=\"same\", name = \"conv_up3\", trainable=True)(up3)\n",
        "    bn_up3 = BatchNormalization(name = \"bn_up3\", momentum = 1, trainable=False)(conv_up3, training=False)\n",
        "    ac_up3 = Activation('relu', name='ac_up3')(bn_up3)\n",
        "\n",
        "    up4 = UpSampling2D(size=(2, 2))(ac_up3)\n",
        "    conv_up4 = Conv2D(64, (3, 3), padding=\"same\", name=\"conv_up4\", trainable=True)(up4)\n",
        "    bn_up4 = BatchNormalization(name=\"bn_up4\", momentum = 1, trainable=False)(conv_up4, training=False)\n",
        "    ac_up4 = Activation('relu', name='ac_up4')(bn_up4)\n",
        "\n",
        "    x = Conv2D(3, (1,1), padding=\"same\", name='dense167classifer', trainable=True)(ac_up4)\n",
        "\n",
        "    return ac_up4, x"
      ],
      "execution_count": null,
      "outputs": []
    }
  ]
}