{
  "nbformat": 4,
  "nbformat_minor": 0,
  "metadata": {
    "colab": {
      "name": "Untitled178.ipynb",
      "provenance": [],
      "authorship_tag": "ABX9TyOjAyG4+BOH2NsrFJof7qsC",
      "include_colab_link": true
    },
    "kernelspec": {
      "name": "python3",
      "display_name": "Python 3"
    },
    "language_info": {
      "name": "python"
    }
  },
  "cells": [
    {
      "cell_type": "markdown",
      "metadata": {
        "id": "view-in-github",
        "colab_type": "text"
      },
      "source": [
        "<a href=\"https://colab.research.google.com/github/greyhound101/gan_segmentation_FE/blob/main/Untitled178.ipynb\" target=\"_parent\"><img src=\"https://colab.research.google.com/assets/colab-badge.svg\" alt=\"Open In Colab\"/></a>"
      ]
    },
    {
      "cell_type": "code",
      "metadata": {
        "id": "rJF-LhmFcuBa"
      },
      "source": [
        "    for epoch in range(10):\n",
        "      for i in range(2):\n",
        "        \n",
        "        trainidx=trainidxs[i]\n",
        "        img_list=img_lists[i]\n",
        "        trainidx=trainidxs[i]\n",
        "        tumor_list=tumor_lists[i]\n",
        "        tumorlines=tumorliness[i]\n",
        "        liverlines=liverliness[i]\n",
        "        tumoridx=tumoridxs[i]\n",
        "        liveridx=liveridxs[i]\n",
        "        minindex_list=minindex_lists[i]\n",
        "        maxindex_list=maxindex_lists[i]\n",
        "        \n",
        "        models[i].fit_generator(generate_arrays_from_file(args.b, trainidx, img_list, tumor_list, tumorlines, liverlines,\n",
        "                                                  tumoridx, liveridx, minindex_list, maxindex_list,gen),\n",
        "                        steps_per_epoch=50,\n",
        "                        epochs= 1, verbose = 1, max_queue_size=10, workers=3, use_multiprocessing=True)\n",
        "      \n",
        "      for num in tqdm(range(1000,len(model.layers))):\n",
        "          wts=model.layers[num].get_weights()\n",
        "          if len(wts)!=0:\n",
        "            ls=[]\n",
        "            for i in range(len(wts)):\n",
        "              temp = np.zeros(wts[i].shape)\n",
        "              for s in range(2):\n",
        "                weights=models[s].layers[num].get_weights()[i]\n",
        "                noise = np.random.normal(0, 1e-5*np.std(weights),weights.shape)\n",
        "                temp += 0.5*(weights+noise)\n",
        "              ls.append(tf.convert_to_tensor(temp)._copy_to_device('/device:GPU:0'))\n",
        "            model.layers[num].set_weights(ls)\n",
        "            for s in range(2):\n",
        "              models[s].layers[num].set_weights(ls)"
      ],
      "execution_count": null,
      "outputs": []
    }
  ]
}